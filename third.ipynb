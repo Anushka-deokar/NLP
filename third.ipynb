{
 "cells": [
  {
   "cell_type": "code",
   "execution_count": 1,
   "id": "978980a6-09d2-4b0b-9016-9d510b567cf1",
   "metadata": {},
   "outputs": [],
   "source": [
    "#Working with pdf files"
   ]
  },
  {
   "cell_type": "code",
   "execution_count": 2,
   "id": "9d25a473-df42-4177-b435-fe97ed4577da",
   "metadata": {},
   "outputs": [],
   "source": [
    "#We use PyPDF2 library  is made to extract text from PDF files directly created from a word prcessor\n",
    "# , but keep in mind not all word processors created PDFs with extractable text !\n",
    "# To install PyPDF2 open command line \n",
    "\n",
    "# pip install PyPDF2"
   ]
  },
  {
   "cell_type": "code",
   "execution_count": 1,
   "id": "09c8d345-bf0b-440e-8905-931e4e05eccb",
   "metadata": {},
   "outputs": [],
   "source": [
    "import PyPDF2"
   ]
  },
  {
   "cell_type": "code",
   "execution_count": 2,
   "id": "79992f9e-25be-4092-a8f1-a9c1e4e26d8f",
   "metadata": {},
   "outputs": [],
   "source": [
    "myfile = open('sample.pdf',mode ='rb')"
   ]
  },
  {
   "cell_type": "code",
   "execution_count": 18,
   "id": "11d6c5ae-da9e-47aa-9d23-d4c65f27c158",
   "metadata": {},
   "outputs": [],
   "source": [
    "import PyPDF2\n",
    "\n",
    "# Open the PDF file in binary mode\n",
    "with open('sample.pdf', 'rb') as myfile:\n",
    "    # Use PdfReader instead of PdfFileReader\n",
    "    pdf_reader = PyPDF2.PdfReader(myfile)"
   ]
  },
  {
   "cell_type": "code",
   "execution_count": 24,
   "id": "5b67ef51-74fa-4fc0-b3bf-c44473a5009f",
   "metadata": {},
   "outputs": [],
   "source": [
    "myfile.close()"
   ]
  },
  {
   "cell_type": "code",
   "execution_count": 25,
   "id": "d38e7763-9fb4-4fdd-bfe1-012d83194313",
   "metadata": {},
   "outputs": [],
   "source": [
    "f = open('sample.pdf','rb')\n"
   ]
  },
  {
   "cell_type": "code",
   "execution_count": 26,
   "id": "3df13885-3b14-4585-afd0-848388511e4f",
   "metadata": {},
   "outputs": [],
   "source": [
    "pdf_reader = PyPDF2.PdfReader(f)"
   ]
  },
  {
   "cell_type": "code",
   "execution_count": 31,
   "id": "0c11260b-8e65-4fc7-b330-159121476e29",
   "metadata": {},
   "outputs": [
    {
     "name": "stdout",
     "output_type": "stream",
     "text": [
      "NLP enables computers and digital devices to recognize, understand \n",
      "and generate text and speech by combining computational \n",
      "linguistics—the rule-based modeling of human language—together \n",
      "with statistical modeling, machine learning (ML) and deep learning \n",
      "\n"
     ]
    }
   ],
   "source": [
    "import fitz  # PyMuPDF\n",
    "\n",
    "# Open the PDF file\n",
    "doc = fitz.open('sample.pdf')  # Replace 'sample.pdf' with the path to your PDF file\n",
    "\n",
    "# Initialize an empty string to hold the text\n",
    "text = \"\"\n",
    "\n",
    "# Iterate through each page in the document\n",
    "for page in doc:\n",
    "    text += page.get_text()  # Extract text from each page and append it to the text string\n",
    "\n",
    "# Close the document after reading\n",
    "doc.close()\n",
    "\n",
    "# Print the extracted text\n",
    "print(text)\n"
   ]
  },
  {
   "cell_type": "code",
   "execution_count": 32,
   "id": "1f1f9876-a212-4e96-8176-2cb7b0bce840",
   "metadata": {},
   "outputs": [
    {
     "name": "stdout",
     "output_type": "stream",
     "text": [
      "NLP enables computers and digital devices to recognize, understand \n",
      "and generate text and speech by combining computational \n",
      "linguistics—the rule-based modeling of human language—together \n",
      "with statistical modeling, machine learning (ML) and deep learning \n",
      "\n"
     ]
    }
   ],
   "source": [
    "import fitz  # PyMuPDF\n",
    "\n",
    "# Open the PDF file\n",
    "doc = fitz.open('sample.pdf')  # Replace 'sample.pdf' with the path to your PDF file\n",
    "\n",
    "# Load the specific page (0-based index)\n",
    "page = doc.load_page(0)  # Here, 0 represents the first page\n",
    "\n",
    "# Extract text from that page\n",
    "text = page.get_text()\n",
    "\n",
    "# Close the document after reading\n",
    "doc.close()\n",
    "\n",
    "# Print the extracted text from the first page\n",
    "print(text)\n"
   ]
  },
  {
   "cell_type": "code",
   "execution_count": 33,
   "id": "a6f12106-4401-4582-a0f1-986a7d947947",
   "metadata": {},
   "outputs": [
    {
     "name": "stdout",
     "output_type": "stream",
     "text": [
      "The PDF has 1 pages.\n"
     ]
    }
   ],
   "source": [
    "import fitz  # PyMuPDF\n",
    "\n",
    "# Open the PDF file\n",
    "doc = fitz.open('sample.pdf')  # Replace 'sample.pdf' with the path to your PDF file\n",
    "\n",
    "# Get the total number of pages\n",
    "num_pages = doc.page_count\n",
    "\n",
    "# Close the document after getting the page count\n",
    "doc.close()\n",
    "\n",
    "# Print the number of pages\n",
    "print(f\"The PDF has {num_pages} pages.\")\n"
   ]
  },
  {
   "cell_type": "code",
   "execution_count": null,
   "id": "549be7eb-fe72-481c-85a2-f9a87a10e928",
   "metadata": {},
   "outputs": [],
   "source": []
  }
 ],
 "metadata": {
  "kernelspec": {
   "display_name": "Python 3 (ipykernel)",
   "language": "python",
   "name": "python3"
  },
  "language_info": {
   "codemirror_mode": {
    "name": "ipython",
    "version": 3
   },
   "file_extension": ".py",
   "mimetype": "text/x-python",
   "name": "python",
   "nbconvert_exporter": "python",
   "pygments_lexer": "ipython3",
   "version": "3.11.7"
  }
 },
 "nbformat": 4,
 "nbformat_minor": 5
}
