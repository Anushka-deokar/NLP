{
 "cells": [
  {
   "cell_type": "code",
   "execution_count": 46,
   "id": "4288d08d-eb17-46df-9669-b14a09e1cb93",
   "metadata": {},
   "outputs": [
    {
     "name": "stdout",
     "output_type": "stream",
     "text": [
      "Overwriting test.txt\n"
     ]
    }
   ],
   "source": [
    "%%writefile test.txt\n",
    "Hello , this is quixk test file.\n",
    "This is the second line of the file."
   ]
  },
  {
   "cell_type": "code",
   "execution_count": 47,
   "id": "8ada38ae-12f1-4afb-9050-22f5cc053236",
   "metadata": {},
   "outputs": [
    {
     "data": {
      "text/plain": [
       "'C:\\\\Users\\\\sai\\\\NLP_udemy'"
      ]
     },
     "execution_count": 47,
     "metadata": {},
     "output_type": "execute_result"
    }
   ],
   "source": [
    "pwd"
   ]
  },
  {
   "cell_type": "code",
   "execution_count": 48,
   "id": "22b40e59-4864-430a-b9bc-712eb1503eff",
   "metadata": {},
   "outputs": [],
   "source": [
    "myfile = open('test.txt')"
   ]
  },
  {
   "cell_type": "code",
   "execution_count": 49,
   "id": "492dc677-3c16-499b-8244-b1da44bfc04a",
   "metadata": {},
   "outputs": [
    {
     "data": {
      "text/plain": [
       "<_io.TextIOWrapper name='test.txt' mode='r' encoding='cp1252'>"
      ]
     },
     "execution_count": 49,
     "metadata": {},
     "output_type": "execute_result"
    }
   ],
   "source": [
    "myfile"
   ]
  },
  {
   "cell_type": "code",
   "execution_count": 50,
   "id": "4e6e188a-daf5-4ebc-baae-1da70286133f",
   "metadata": {},
   "outputs": [
    {
     "data": {
      "text/plain": [
       "'Hello , this is quixk test file.\\nThis is the second line of the file.\\n'"
      ]
     },
     "execution_count": 50,
     "metadata": {},
     "output_type": "execute_result"
    }
   ],
   "source": [
    "myfile.read()"
   ]
  },
  {
   "cell_type": "code",
   "execution_count": 51,
   "id": "d83c1f76-f393-43d2-bb2d-425e01974240",
   "metadata": {},
   "outputs": [
    {
     "data": {
      "text/plain": [
       "''"
      ]
     },
     "execution_count": 51,
     "metadata": {},
     "output_type": "execute_result"
    }
   ],
   "source": [
    "myfile.read()"
   ]
  },
  {
   "cell_type": "code",
   "execution_count": null,
   "id": "1256b421-0ae3-44fa-9aa0-fb7d9692174f",
   "metadata": {},
   "outputs": [],
   "source": []
  },
  {
   "cell_type": "code",
   "execution_count": 52,
   "id": "410ed529-6199-4f1f-b633-c119c63ea150",
   "metadata": {},
   "outputs": [
    {
     "data": {
      "text/plain": [
       "0"
      ]
     },
     "execution_count": 52,
     "metadata": {},
     "output_type": "execute_result"
    }
   ],
   "source": [
    "myfile.seek(0)"
   ]
  },
  {
   "cell_type": "code",
   "execution_count": 53,
   "id": "d47bed40-8ca3-443d-9ca1-8bd38604fadc",
   "metadata": {},
   "outputs": [
    {
     "data": {
      "text/plain": [
       "'Hello , this is quixk test file.\\nThis is the second line of the file.\\n'"
      ]
     },
     "execution_count": 53,
     "metadata": {},
     "output_type": "execute_result"
    }
   ],
   "source": [
    "myfile.read()"
   ]
  },
  {
   "cell_type": "code",
   "execution_count": 54,
   "id": "e9c64cdc-d048-4211-ac6e-175a4c0aaa4b",
   "metadata": {},
   "outputs": [
    {
     "data": {
      "text/plain": [
       "0"
      ]
     },
     "execution_count": 54,
     "metadata": {},
     "output_type": "execute_result"
    }
   ],
   "source": [
    "myfile.seek(0)"
   ]
  },
  {
   "cell_type": "code",
   "execution_count": 55,
   "id": "794e2ed9-0ba3-4bd9-b986-ef1056bac11f",
   "metadata": {},
   "outputs": [],
   "source": [
    "content = myfile.read()"
   ]
  },
  {
   "cell_type": "code",
   "execution_count": 56,
   "id": "7fe1c2f7-938a-4a56-97a9-6b20b25805f0",
   "metadata": {},
   "outputs": [
    {
     "name": "stdout",
     "output_type": "stream",
     "text": [
      "Hello , this is quixk test file.\n",
      "This is the second line of the file.\n",
      "\n"
     ]
    }
   ],
   "source": [
    "print(content)"
   ]
  },
  {
   "cell_type": "code",
   "execution_count": 57,
   "id": "b966f5c2-8a7b-4732-ae0c-0b395077e22c",
   "metadata": {},
   "outputs": [],
   "source": [
    "#You should always close a file\n",
    "myfile.close()"
   ]
  },
  {
   "cell_type": "code",
   "execution_count": 58,
   "id": "1fc832df-1e0f-440e-b6c7-510bb6c3ac81",
   "metadata": {},
   "outputs": [],
   "source": [
    "myfile =open('test.txt')"
   ]
  },
  {
   "cell_type": "code",
   "execution_count": 59,
   "id": "52d8a612-cde1-4a53-919d-bd46005dfdc0",
   "metadata": {},
   "outputs": [
    {
     "data": {
      "text/plain": [
       "['Hello , this is quixk test file.\\n',\n",
       " 'This is the second line of the file.\\n']"
      ]
     },
     "execution_count": 59,
     "metadata": {},
     "output_type": "execute_result"
    }
   ],
   "source": [
    "myfile.readlines() #it is used to read each line as list"
   ]
  },
  {
   "cell_type": "code",
   "execution_count": 63,
   "id": "21a64926-2e31-41e9-9797-b840a7a7f83e",
   "metadata": {},
   "outputs": [
    {
     "data": {
      "text/plain": [
       "0"
      ]
     },
     "execution_count": 63,
     "metadata": {},
     "output_type": "execute_result"
    }
   ],
   "source": [
    "myfile.seek(0)"
   ]
  },
  {
   "cell_type": "code",
   "execution_count": 64,
   "id": "68ad639c-8934-43da-99be-705a68aebf34",
   "metadata": {},
   "outputs": [],
   "source": [
    "mylines = myfile.readlines()"
   ]
  },
  {
   "cell_type": "code",
   "execution_count": 65,
   "id": "f4dcd197-6d40-4d3f-83d1-22284f7cddae",
   "metadata": {},
   "outputs": [
    {
     "name": "stdout",
     "output_type": "stream",
     "text": [
      "Hello\n",
      "This\n"
     ]
    }
   ],
   "source": [
    "for line in mylines:\n",
    "    print(line.split()[0])\n",
    "    \n"
   ]
  },
  {
   "cell_type": "code",
   "execution_count": 67,
   "id": "5b43759e-0d95-4d7c-a378-c499e7c2ed29",
   "metadata": {},
   "outputs": [],
   "source": [
    "myfile = open('test.txt','w+') # w+ allow us to read and write to file"
   ]
  },
  {
   "cell_type": "code",
   "execution_count": 68,
   "id": "e724d774-e741-4cd3-8539-a040c829e261",
   "metadata": {},
   "outputs": [
    {
     "data": {
      "text/plain": [
       "''"
      ]
     },
     "execution_count": 68,
     "metadata": {},
     "output_type": "execute_result"
    }
   ],
   "source": [
    "myfile.read()"
   ]
  },
  {
   "cell_type": "code",
   "execution_count": 69,
   "id": "c8574c34-1a57-4c19-b632-05f13acfbaf7",
   "metadata": {},
   "outputs": [
    {
     "data": {
      "text/plain": [
       "18"
      ]
     },
     "execution_count": 69,
     "metadata": {},
     "output_type": "execute_result"
    }
   ],
   "source": [
    "myfile.write(' MY BRAND NEW TEXT')"
   ]
  },
  {
   "cell_type": "code",
   "execution_count": 70,
   "id": "e186cf6b-e76f-4822-8d35-d8205bf630c5",
   "metadata": {},
   "outputs": [
    {
     "data": {
      "text/plain": [
       "0"
      ]
     },
     "execution_count": 70,
     "metadata": {},
     "output_type": "execute_result"
    }
   ],
   "source": [
    "myfile.seek(0)"
   ]
  },
  {
   "cell_type": "code",
   "execution_count": 71,
   "id": "339a4186-8253-4429-946b-e0c516207446",
   "metadata": {},
   "outputs": [
    {
     "data": {
      "text/plain": [
       "' MY BRAND NEW TEXT'"
      ]
     },
     "execution_count": 71,
     "metadata": {},
     "output_type": "execute_result"
    }
   ],
   "source": [
    "myfile.read()"
   ]
  },
  {
   "cell_type": "code",
   "execution_count": 72,
   "id": "568bfa71-d411-44ab-86af-2c07ed960201",
   "metadata": {},
   "outputs": [],
   "source": [
    "myfile.close()"
   ]
  },
  {
   "cell_type": "code",
   "execution_count": 74,
   "id": "c0a462f6-b546-48d9-8322-078b01748bd6",
   "metadata": {},
   "outputs": [],
   "source": [
    "#appending to file\n",
    "\n",
    "myfile = open('whoops.txt','a+') #this will create a new file"
   ]
  },
  {
   "cell_type": "code",
   "execution_count": 75,
   "id": "eb3032ad-ae40-49ef-9150-19c0d958e859",
   "metadata": {},
   "outputs": [
    {
     "data": {
      "text/plain": [
       "27"
      ]
     },
     "execution_count": 75,
     "metadata": {},
     "output_type": "execute_result"
    }
   ],
   "source": [
    "myfile.write('MY FIRST LINE IN A+ OPENING')"
   ]
  },
  {
   "cell_type": "code",
   "execution_count": 76,
   "id": "d5832584-e395-49ad-b985-da6b9412f118",
   "metadata": {},
   "outputs": [],
   "source": [
    "myfile.close()"
   ]
  },
  {
   "cell_type": "code",
   "execution_count": 77,
   "id": "8c131427-1c0b-40ea-8545-e2354e703154",
   "metadata": {},
   "outputs": [],
   "source": [
    "newfile =open('whoops.txt')"
   ]
  },
  {
   "cell_type": "code",
   "execution_count": 78,
   "id": "1bd7d402-19a2-4e20-9e29-232a97f5bf18",
   "metadata": {},
   "outputs": [
    {
     "data": {
      "text/plain": [
       "'MY FIRST LINE IN A+ OPENING'"
      ]
     },
     "execution_count": 78,
     "metadata": {},
     "output_type": "execute_result"
    }
   ],
   "source": [
    "newfile.read()"
   ]
  },
  {
   "cell_type": "code",
   "execution_count": 79,
   "id": "954cdd2b-7e46-45b9-87f2-bd2ed13e142d",
   "metadata": {},
   "outputs": [
    {
     "ename": "UnsupportedOperation",
     "evalue": "not writable",
     "output_type": "error",
     "traceback": [
      "\u001b[1;31m---------------------------------------------------------------------------\u001b[0m",
      "\u001b[1;31mUnsupportedOperation\u001b[0m                      Traceback (most recent call last)",
      "Cell \u001b[1;32mIn[79], line 1\u001b[0m\n\u001b[1;32m----> 1\u001b[0m newfile\u001b[38;5;241m.\u001b[39mwrite(\u001b[38;5;124m'\u001b[39m\u001b[38;5;124mtry to write something \u001b[39m\u001b[38;5;124m'\u001b[39m)\n",
      "\u001b[1;31mUnsupportedOperation\u001b[0m: not writable"
     ]
    }
   ],
   "source": [
    "newfile.write('try to write something ')"
   ]
  },
  {
   "cell_type": "code",
   "execution_count": 80,
   "id": "9c955109-a2f2-4e20-b15c-f6fc7e6668a0",
   "metadata": {},
   "outputs": [],
   "source": [
    "#We get this error because we didn't usev the correct mode"
   ]
  },
  {
   "cell_type": "code",
   "execution_count": 81,
   "id": "f329cbf7-7083-44f3-bcda-dc97a1b4d892",
   "metadata": {},
   "outputs": [],
   "source": [
    "newfile.close()"
   ]
  },
  {
   "cell_type": "code",
   "execution_count": 82,
   "id": "cd844da7-31c6-4334-be10-5823f4aa65da",
   "metadata": {},
   "outputs": [],
   "source": [
    "myfile =open('whoops.txt',mode ='a+')"
   ]
  },
  {
   "cell_type": "code",
   "execution_count": 83,
   "id": "3cbfb992-37a4-4e0d-8a3b-44e33decf08a",
   "metadata": {},
   "outputs": [
    {
     "data": {
      "text/plain": [
       "39"
      ]
     },
     "execution_count": 83,
     "metadata": {},
     "output_type": "execute_result"
    }
   ],
   "source": [
    "myfile.write('This is added line after using a+ mode ')"
   ]
  },
  {
   "cell_type": "code",
   "execution_count": 84,
   "id": "02be3974-b1e2-49e0-aaa4-85a637a89e65",
   "metadata": {},
   "outputs": [
    {
     "data": {
      "text/plain": [
       "0"
      ]
     },
     "execution_count": 84,
     "metadata": {},
     "output_type": "execute_result"
    }
   ],
   "source": [
    "myfile.seek(0)"
   ]
  },
  {
   "cell_type": "code",
   "execution_count": 85,
   "id": "e97a40ae-0824-4901-bd92-868d75a3d29c",
   "metadata": {},
   "outputs": [
    {
     "data": {
      "text/plain": [
       "'MY FIRST LINE IN A+ OPENINGThis is added line after using a+ mode '"
      ]
     },
     "execution_count": 85,
     "metadata": {},
     "output_type": "execute_result"
    }
   ],
   "source": [
    "myfile.read()"
   ]
  },
  {
   "cell_type": "code",
   "execution_count": 86,
   "id": "85791a77-13f5-4a8a-b767-f41c18ee6051",
   "metadata": {},
   "outputs": [
    {
     "data": {
      "text/plain": [
       "21"
      ]
     },
     "execution_count": 86,
     "metadata": {},
     "output_type": "execute_result"
    }
   ],
   "source": [
    "myfile.write('\\nThis is a next line ')"
   ]
  },
  {
   "cell_type": "code",
   "execution_count": 87,
   "id": "77c61620-2104-4f73-b1aa-00cd2ace20c6",
   "metadata": {},
   "outputs": [
    {
     "data": {
      "text/plain": [
       "0"
      ]
     },
     "execution_count": 87,
     "metadata": {},
     "output_type": "execute_result"
    }
   ],
   "source": [
    "myfile.seek(0)"
   ]
  },
  {
   "cell_type": "code",
   "execution_count": 88,
   "id": "30c0b0cc-1b84-4171-9feb-6c707f45708b",
   "metadata": {},
   "outputs": [
    {
     "data": {
      "text/plain": [
       "'MY FIRST LINE IN A+ OPENINGThis is added line after using a+ mode \\nThis is a next line '"
      ]
     },
     "execution_count": 88,
     "metadata": {},
     "output_type": "execute_result"
    }
   ],
   "source": [
    "myfile.read()"
   ]
  },
  {
   "cell_type": "code",
   "execution_count": 89,
   "id": "38c66145-d52e-4e24-8eff-3c187c746343",
   "metadata": {},
   "outputs": [],
   "source": [
    "#How can we use context manager\n"
   ]
  },
  {
   "cell_type": "code",
   "execution_count": 90,
   "id": "24251f6e-f0cf-4280-8e23-1a3de36c7493",
   "metadata": {},
   "outputs": [],
   "source": [
    "with open('whoops.txt','r') as mynewfile:\n",
    "    myvariable = mynewfile.readlines()"
   ]
  },
  {
   "cell_type": "code",
   "execution_count": 91,
   "id": "584af6a7-582a-4560-83bc-327f9f0dc3c9",
   "metadata": {},
   "outputs": [
    {
     "data": {
      "text/plain": [
       "['MY FIRST LINE IN A+ OPENINGThis is added line after using a+ mode \\n',\n",
       " 'This is a next line ']"
      ]
     },
     "execution_count": 91,
     "metadata": {},
     "output_type": "execute_result"
    }
   ],
   "source": [
    "myvariable"
   ]
  },
  {
   "cell_type": "code",
   "execution_count": null,
   "id": "49387352-f66f-44ab-b6be-8f241af8a8c0",
   "metadata": {},
   "outputs": [],
   "source": []
  }
 ],
 "metadata": {
  "kernelspec": {
   "display_name": "Python 3 (ipykernel)",
   "language": "python",
   "name": "python3"
  },
  "language_info": {
   "codemirror_mode": {
    "name": "ipython",
    "version": 3
   },
   "file_extension": ".py",
   "mimetype": "text/x-python",
   "name": "python",
   "nbconvert_exporter": "python",
   "pygments_lexer": "ipython3",
   "version": "3.11.7"
  }
 },
 "nbformat": 4,
 "nbformat_minor": 5
}
