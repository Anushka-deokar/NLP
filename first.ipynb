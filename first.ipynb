{
 "cells": [
  {
   "cell_type": "code",
   "execution_count": 1,
   "id": "190e6f21-90db-4096-bce9-cd7cd57f2e36",
   "metadata": {},
   "outputs": [],
   "source": [
    "person = \"Anushka\""
   ]
  },
  {
   "cell_type": "code",
   "execution_count": 2,
   "id": "01cccbd7-56d5-46e4-b48c-3e8e19720c0d",
   "metadata": {},
   "outputs": [
    {
     "name": "stdout",
     "output_type": "stream",
     "text": [
      "My name is Anushka\n"
     ]
    }
   ],
   "source": [
    "print(\"My name is {}\".format(person))"
   ]
  },
  {
   "cell_type": "code",
   "execution_count": 4,
   "id": "846e1dc2-62e2-457d-bf49-01cda414459d",
   "metadata": {},
   "outputs": [
    {
     "name": "stdout",
     "output_type": "stream",
     "text": [
      "My name is Anushka\n"
     ]
    }
   ],
   "source": [
    "print(f\"My name is {person}\")"
   ]
  },
  {
   "cell_type": "code",
   "execution_count": 1,
   "id": "eec22ad1-298d-44a2-8d4d-9146fcc95ba5",
   "metadata": {},
   "outputs": [],
   "source": [
    "d={ 'a':123, 'b':456}"
   ]
  },
  {
   "cell_type": "code",
   "execution_count": 2,
   "id": "30e83e65-6b4e-4475-8b0b-81f59acffe4f",
   "metadata": {},
   "outputs": [
    {
     "name": "stdout",
     "output_type": "stream",
     "text": [
      "my number is 123\n"
     ]
    }
   ],
   "source": [
    "print(f\"my number is {d['a']}\")"
   ]
  },
  {
   "cell_type": "code",
   "execution_count": 4,
   "id": "95da38aa-30a9-49db-9718-abf5af465248",
   "metadata": {},
   "outputs": [
    {
     "name": "stdout",
     "output_type": "stream",
     "text": [
      "my first number si  is 0\n"
     ]
    }
   ],
   "source": [
    "mylist =[0,1,2]\n",
    "print(f\"my first number si  is {mylist[0]}\")"
   ]
  },
  {
   "cell_type": "code",
   "execution_count": 5,
   "id": "33432f3a-0a01-4250-8357-fec19d801f86",
   "metadata": {},
   "outputs": [],
   "source": [
    "library = [('Author','Topic','Pages'),('Twain','Rafting',21),('Anushka','Cycling',200),('ABC','Swimming',400),('Mark','Sprituality',700),('Zen','Health',150)]"
   ]
  },
  {
   "cell_type": "code",
   "execution_count": 6,
   "id": "9b3fc716-9d34-49db-ab0c-968e8670097f",
   "metadata": {},
   "outputs": [
    {
     "data": {
      "text/plain": [
       "[('Author', 'Topic', 'Pages'),\n",
       " ('Twain', 'Rafting', 21),\n",
       " ('Anushka', 'Cycling', 200),\n",
       " ('ABC', 'Swimming', 400),\n",
       " ('Mark', 'Sprituality', 700),\n",
       " ('Zen', 'Health', 150)]"
      ]
     },
     "execution_count": 6,
     "metadata": {},
     "output_type": "execute_result"
    }
   ],
   "source": [
    "library"
   ]
  },
  {
   "cell_type": "code",
   "execution_count": 8,
   "id": "31910ba8-002d-49f3-a178-0b8316bf73df",
   "metadata": {},
   "outputs": [
    {
     "name": "stdout",
     "output_type": "stream",
     "text": [
      "('Author', 'Topic', 'Pages')\n",
      "('Twain', 'Rafting', 21)\n",
      "('Anushka', 'Cycling', 200)\n",
      "('ABC', 'Swimming', 400)\n",
      "('Mark', 'Sprituality', 700)\n",
      "('Zen', 'Health', 150)\n"
     ]
    }
   ],
   "source": [
    "for book in library:\n",
    "    print(book)"
   ]
  },
  {
   "cell_type": "code",
   "execution_count": 9,
   "id": "139d729a-5766-4793-a75c-07e6e0892495",
   "metadata": {},
   "outputs": [
    {
     "name": "stdout",
     "output_type": "stream",
     "text": [
      "Author is Author\n",
      "Author is Twain\n",
      "Author is Anushka\n",
      "Author is ABC\n",
      "Author is Mark\n",
      "Author is Zen\n"
     ]
    }
   ],
   "source": [
    "for author,topic,pages  in library:\n",
    "    print(f\"Author is {author}\")"
   ]
  },
  {
   "cell_type": "code",
   "execution_count": 19,
   "id": "8792913a-5a2e-4668-aeb1-b675e4887344",
   "metadata": {},
   "outputs": [
    {
     "name": "stdout",
     "output_type": "stream",
     "text": [
      "Author     Topic                          .....Pages\n",
      "Twain      Rafting                        ........21\n",
      "Anushka    Cycling                        .......200\n",
      "ABC        Swimming                       .......400\n",
      "Mark       Sprituality                    .......700\n",
      "Zen        Health                         .......150\n"
     ]
    }
   ],
   "source": [
    "#Make alignment\n",
    "for author,topic,pages  in library:\n",
    "    print(f\"{author:{10}} {topic:{30}} {pages:.>{10}}\")"
   ]
  },
  {
   "cell_type": "code",
   "execution_count": 20,
   "id": "2a31198a-2e11-4a74-8aae-ec05630f21c5",
   "metadata": {},
   "outputs": [],
   "source": [
    "#Date time\n",
    "from datetime import datetime"
   ]
  },
  {
   "cell_type": "code",
   "execution_count": 21,
   "id": "b1b5525f-faf9-41dd-9187-c131eb147e88",
   "metadata": {},
   "outputs": [],
   "source": [
    "today = datetime(year=2024,month=8,day=25)"
   ]
  },
  {
   "cell_type": "code",
   "execution_count": 26,
   "id": "974fc182-ce57-4b51-a39f-2dfd7c25aa79",
   "metadata": {},
   "outputs": [
    {
     "name": "stdout",
     "output_type": "stream",
     "text": [
      "August 25 2024\n"
     ]
    }
   ],
   "source": [
    "print(f\"{today:%B %d %Y}\")"
   ]
  },
  {
   "cell_type": "code",
   "execution_count": 23,
   "id": "b264db7f-5c95-4456-93d3-8590adb24ece",
   "metadata": {},
   "outputs": [
    {
     "data": {
      "text/plain": [
       "datetime.datetime(2024, 8, 25, 0, 0)"
      ]
     },
     "execution_count": 23,
     "metadata": {},
     "output_type": "execute_result"
    }
   ],
   "source": [
    "today"
   ]
  },
  {
   "cell_type": "code",
   "execution_count": null,
   "id": "c4b436c3-b218-4e9c-865d-c0afba87aeff",
   "metadata": {},
   "outputs": [],
   "source": []
  }
 ],
 "metadata": {
  "kernelspec": {
   "display_name": "Python 3 (ipykernel)",
   "language": "python",
   "name": "python3"
  },
  "language_info": {
   "codemirror_mode": {
    "name": "ipython",
    "version": 3
   },
   "file_extension": ".py",
   "mimetype": "text/x-python",
   "name": "python",
   "nbconvert_exporter": "python",
   "pygments_lexer": "ipython3",
   "version": "3.11.7"
  }
 },
 "nbformat": 4,
 "nbformat_minor": 5
}
